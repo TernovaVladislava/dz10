{
  "nbformat": 4,
  "nbformat_minor": 0,
  "metadata": {
    "colab": {
      "provenance": []
    },
    "kernelspec": {
      "name": "python3",
      "display_name": "Python 3"
    },
    "language_info": {
      "name": "python"
    }
  },
  "cells": [
    {
      "cell_type": "markdown",
      "source": [
        "# Задача 44:\n",
        "# В ячейке ниже представлен код генерирующий DataFrame, которая состоит всего из 1 столбца.\n",
        "# Ваша задача перевести его в one hot вид.\n",
        "# Сможете ли вы это сделать без get_dummies?\n"
      ],
      "metadata": {
        "id": "_nQ4u3fjGS-d"
      }
    },
    {
      "cell_type": "code",
      "source": [
        "import pandas as pd\n",
        "import numpy as np\n",
        "import random\n",
        "\n",
        "lst = ['robot'] * 10\n",
        "lst += ['human'] * 10\n",
        "random.shuffle(lst)\n",
        "data = pd.DataFrame({'whoAmI': lst})\n",
        "print(data)\n",
        "\n",
        "print('')\n",
        "\n",
        "data['tmp'] = 1\n",
        "data.set_index([data.index, 'whoAmI'], inplace=True)\n",
        "data = data.unstack(level=-1, fill_value = 0).astype(int)\n",
        "data.columns = data.columns.droplevel()\n",
        "data.columns.name = None\n",
        "print(data)"
      ],
      "metadata": {
        "colab": {
          "base_uri": "https://localhost:8080/"
        },
        "id": "wU_XW0o_GT-N",
        "outputId": "ea540395-b7cb-41a0-88c2-29b54a98b54b"
      },
      "execution_count": 1,
      "outputs": [
        {
          "output_type": "stream",
          "name": "stdout",
          "text": [
            "   whoAmI\n",
            "0   human\n",
            "1   robot\n",
            "2   human\n",
            "3   human\n",
            "4   human\n",
            "5   robot\n",
            "6   robot\n",
            "7   robot\n",
            "8   human\n",
            "9   human\n",
            "10  human\n",
            "11  robot\n",
            "12  human\n",
            "13  human\n",
            "14  robot\n",
            "15  robot\n",
            "16  robot\n",
            "17  robot\n",
            "18  human\n",
            "19  robot\n",
            "\n",
            "    human  robot\n",
            "0       1      0\n",
            "1       0      1\n",
            "2       1      0\n",
            "3       1      0\n",
            "4       1      0\n",
            "5       0      1\n",
            "6       0      1\n",
            "7       0      1\n",
            "8       1      0\n",
            "9       1      0\n",
            "10      1      0\n",
            "11      0      1\n",
            "12      1      0\n",
            "13      1      0\n",
            "14      0      1\n",
            "15      0      1\n",
            "16      0      1\n",
            "17      0      1\n",
            "18      1      0\n",
            "19      0      1\n"
          ]
        }
      ]
    }
  ]
}